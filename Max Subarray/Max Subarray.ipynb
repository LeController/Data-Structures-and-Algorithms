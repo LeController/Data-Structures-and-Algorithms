{
 "cells": [
  {
   "cell_type": "code",
   "execution_count": 47,
   "id": "6e86e15b",
   "metadata": {},
   "outputs": [],
   "source": [
    "import math\n",
    "\n",
    "def Find_Crossing_Subarray(A, low, mid, high):\n",
    "#     print(\"\\nCROSSING:\\nlow:\",low,\"\\nhigh:\",high,\"\\nmid:\", mid)\n",
    "    left_sum = -math.inf\n",
    "    sum = 0\n",
    "    for i in range(mid, low-1, -1):\n",
    "        sum = sum + A[i]\n",
    "        if sum > left_sum:\n",
    "            left_sum = sum\n",
    "            max_left = i\n",
    "    right_sum = -math.inf\n",
    "    sum = 0\n",
    "    for j in range(mid+1, high+1):\n",
    "        sum = sum + A[j]\n",
    "        if sum > right_sum:\n",
    "            right_sum = sum\n",
    "            max_right = j\n",
    "    return max_left, max_right, left_sum + right_sum\n",
    "\n",
    "def Find_Maximum_Subarray(A, low, high):\n",
    "#     print(\"\\nlow:\",low,\"\\nhigh:\",high)\n",
    "    if high == low:\n",
    "        return (low, high, A[low]) # base case: only one element\n",
    "    else:\n",
    "        mid = math.floor((low+high)/2)\n",
    "#         print(\"mid:\",mid)\n",
    "        left_low, left_high, left_sum = Find_Maximum_Subarray(A, low, mid)\n",
    "        right_low, right_high, right_sum = Find_Maximum_Subarray(A, mid+1, high)\n",
    "        cross_low, cross_high, cross_sum = Find_Crossing_Subarray(A, low, mid, high)\n",
    "        if left_sum >= right_sum and left_sum >= cross_sum:\n",
    "            return left_low, left_high, left_sum\n",
    "        elif right_sum >= left_sum and right_sum >= cross_sum:\n",
    "            return right_low, right_high, right_sum\n",
    "        else:\n",
    "            return cross_low, cross_high, cross_sum"
   ]
  },
  {
   "cell_type": "code",
   "execution_count": 53,
   "id": "d0d7a270",
   "metadata": {
    "scrolled": false
   },
   "outputs": [
    {
     "data": {
      "text/plain": [
       "(1, 5, 15)"
      ]
     },
     "execution_count": 53,
     "metadata": {},
     "output_type": "execute_result"
    }
   ],
   "source": [
    "Find_Maximum_Subarray([-5,1,2,9,-5,8], 0, 5)"
   ]
  },
  {
   "cell_type": "code",
   "execution_count": 54,
   "id": "43ee5356",
   "metadata": {},
   "outputs": [
    {
     "data": {
      "text/plain": [
       "(4, 5, 7)"
      ]
     },
     "execution_count": 54,
     "metadata": {},
     "output_type": "execute_result"
    }
   ],
   "source": [
    "Find_Maximum_Subarray([2,-1,4,-5,4,3], 0, 5)"
   ]
  },
  {
   "cell_type": "code",
   "execution_count": 55,
   "id": "1eb8e7dc",
   "metadata": {},
   "outputs": [
    {
     "data": {
      "text/plain": [
       "(7, 10, 43)"
      ]
     },
     "execution_count": 55,
     "metadata": {},
     "output_type": "execute_result"
    }
   ],
   "source": [
    "stock_change = [13,-3,-25,20,-3,-16,-23,18,20,-7,12,-5,-22,15,-4,7]\n",
    "\n",
    "Find_Maximum_Subarray(stock_change, 0, len(stock_change)-1)"
   ]
  }
 ],
 "metadata": {
  "kernelspec": {
   "display_name": "Python 3 (ipykernel)",
   "language": "python",
   "name": "python3"
  },
  "language_info": {
   "codemirror_mode": {
    "name": "ipython",
    "version": 3
   },
   "file_extension": ".py",
   "mimetype": "text/x-python",
   "name": "python",
   "nbconvert_exporter": "python",
   "pygments_lexer": "ipython3",
   "version": "3.8.3"
  }
 },
 "nbformat": 4,
 "nbformat_minor": 5
}
