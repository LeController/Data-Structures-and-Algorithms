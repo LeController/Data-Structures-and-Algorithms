{
 "cells": [
  {
   "cell_type": "code",
   "execution_count": 22,
   "id": "6e86e15b",
   "metadata": {},
   "outputs": [],
   "source": [
    "import math\n",
    "import time\n",
    "import random\n",
    "import numpy as np\n",
    "random.seed(299)\n",
    "np.random.seed(0)\n",
    "\n",
    "def Find_Crossing_Subarray(A, low, mid, high):\n",
    "#     print(\"\\nCROSSING:\\nlow:\",low,\"\\nhigh:\",high,\"\\nmid:\", mid)\n",
    "    left_sum = -math.inf\n",
    "    sum = 0\n",
    "    for i in range(mid, low-1, -1):\n",
    "        sum = sum + A[i]\n",
    "        if sum > left_sum:\n",
    "            left_sum = sum\n",
    "            max_left = i\n",
    "    right_sum = -math.inf\n",
    "    sum = 0\n",
    "    for j in range(mid+1, high+1):\n",
    "        sum = sum + A[j]\n",
    "        if sum > right_sum:\n",
    "            right_sum = sum\n",
    "            max_right = j\n",
    "\n",
    "    return max_left, max_right, left_sum + right_sum\n",
    "\n",
    "def Find_Maximum_Subarray(A, low, high):\n",
    "#     print(\"\\nlow:\",low,\"\\nhigh:\",high)\n",
    "    if high == low:\n",
    "        return (low, high, A[low]) # base case: only one element\n",
    "    else:\n",
    "        mid = math.floor((low+high)/2)\n",
    "#         print(\"mid:\",mid)\n",
    "        left_low, left_high, left_sum = Find_Maximum_Subarray(A, low, mid)\n",
    "        right_low, right_high, right_sum = Find_Maximum_Subarray(A, mid+1, high)\n",
    "        cross_low, cross_high, cross_sum = Find_Crossing_Subarray(A, low, mid, high)\n",
    "        if left_sum >= right_sum and left_sum >= cross_sum:\n",
    "            return left_low, left_high, left_sum\n",
    "        elif right_sum >= left_sum and right_sum >= cross_sum:\n",
    "            return right_low, right_high, right_sum\n",
    "        else:\n",
    "            return cross_low, cross_high, cross_sum"
   ]
  },
  {
   "cell_type": "code",
   "execution_count": 23,
   "id": "1eb8e7dc",
   "metadata": {},
   "outputs": [
    {
     "name": "stdout",
     "output_type": "stream",
     "text": [
      "7 10 43\n",
      "0.0\n"
     ]
    }
   ],
   "source": [
    "stock_change = [13,-3,-25,20,-3,-16,-23,18,20,-7,12,-5,-22,15,-4,7]\n",
    "\n",
    "start_time = time.time()\n",
    "max_left, max_right, sum_ =  Find_Maximum_Subarray(stock_change, 0, len(stock_change)-1)\n",
    "time_taken1 = time.time() - start_time\n",
    "print(max_left, max_right, sum_)\n",
    "print(time_taken1)"
   ]
  },
  {
   "cell_type": "code",
   "execution_count": 24,
   "id": "46ddcd91",
   "metadata": {},
   "outputs": [
    {
     "name": "stdout",
     "output_type": "stream",
     "text": [
      "1077 2711 1501462.590738716\n",
      "0.05005359649658203\n"
     ]
    }
   ],
   "source": [
    "random_list1 = np.random.uniform(-30000, 30000, 10191)\n",
    "\n",
    "\n",
    "start_time = time.time()\n",
    "max_left, max_right, sum_ = Find_Maximum_Subarray(random_list1, 0, len(random_list1)-1)\n",
    "time_taken2 = time.time() - start_time\n",
    "print(max_left, max_right, sum_)\n",
    "print(time_taken2)"
   ]
  },
  {
   "cell_type": "code",
   "execution_count": 25,
   "id": "b2785b45",
   "metadata": {},
   "outputs": [
    {
     "name": "stdout",
     "output_type": "stream",
     "text": [
      "52802 101335 77414343.10818751\n",
      "0.5595166683197021\n"
     ]
    }
   ],
   "source": [
    "random_list2 = np.random.uniform(-300000, 300000, 101901)\n",
    "\n",
    "\n",
    "start_time = time.time()\n",
    "max_left, max_right, sum_ = Find_Maximum_Subarray(random_list2, 0, len(random_list2)-1)\n",
    "time_taken3 = time.time() - start_time\n",
    "print(max_left, max_right, sum_)\n",
    "print(time_taken3)"
   ]
  },
  {
   "cell_type": "code",
   "execution_count": 26,
   "id": "f77bf61a",
   "metadata": {},
   "outputs": [
    {
     "name": "stdout",
     "output_type": "stream",
     "text": [
      "312775 983063 4436526854.988144\n",
      "6.007643938064575\n"
     ]
    }
   ],
   "source": [
    "random_list3 = np.random.uniform(-3000000, 3000000, 1001901)\n",
    "\n",
    "\n",
    "start_time = time.time()\n",
    "max_left, max_right, sum_ = Find_Maximum_Subarray(random_list3, 0, len(random_list3)-1)\n",
    "time_taken4 = time.time() - start_time\n",
    "print(max_left, max_right, sum_)\n",
    "print(time_taken4)"
   ]
  },
  {
   "cell_type": "code",
   "execution_count": 17,
   "id": "4b179ad4",
   "metadata": {},
   "outputs": [
    {
     "name": "stdout",
     "output_type": "stream",
     "text": [
      "1917676 2976538 43891520609.26863\n",
      "65.87091088294983\n"
     ]
    }
   ],
   "source": [
    "random_list4 = np.random.uniform(-30000000, 30000000, 10010901)\n",
    "\n",
    "\n",
    "start_time = time.time()\n",
    "max_left, max_right, sum_ = Find_Maximum_Subarray(random_list4, 0, len(random_list4)-1)\n",
    "time_taken5 = time.time() - start_time\n",
    "print(max_left, max_right, sum_)\n",
    "print(time_taken5)"
   ]
  },
  {
   "cell_type": "code",
   "execution_count": 6,
   "id": "f4de8fc4",
   "metadata": {},
   "outputs": [],
   "source": [
    "import matplotlib as mpl\n",
    "import matplotlib.pyplot as plt"
   ]
  },
  {
   "cell_type": "code",
   "execution_count": 34,
   "id": "26a2544f",
   "metadata": {},
   "outputs": [
    {
     "name": "stdout",
     "output_type": "stream",
     "text": [
      "[0.0, 0.05005359649658203, 0.5595166683197021, 6.007643938064575, 65.87091088294983]\n",
      "[1.81067018595251e-05, 0.038389955623404574, 0.4796316626080441, 5.65048026501697, 65.86431298355369]\n"
     ]
    },
    {
     "data": {
      "text/plain": [
       "Text(0, 0.5, 'Complexity')"
      ]
     },
     "execution_count": 34,
     "metadata": {},
     "output_type": "execute_result"
    },
    {
     "data": {
      "image/png": "[encoded data removed]",
      "text/plain": [
       "<Figure size 432x288 with 1 Axes>"
      ]
     },
     "metadata": {
      "needs_background": "light"
     },
     "output_type": "display_data"
    }
   ],
   "source": [
    "times = [time_taken1, time_taken2, time_taken3, time_taken4, time_taken5]\n",
    "c=1/2450000\n",
    "complexities = [c*len(stock_change)*np.log(len(stock_change)), c*len(random_list1)*np.log(len(random_list1)), \n",
    "                c*len(random_list2)*np.log(len(random_list2)), c*len(random_list3)*np.log(len(random_list3)), \n",
    "                c*len(random_list4)*np.log(len(random_list4))]\n",
    "\n",
    "print(times)\n",
    "print(complexities)\n",
    "\n",
    "plt.plot(times, complexities)\n",
    "plt.title(\"Time Spent VS Theoretical Complexity\")\n",
    "plt.xlabel(\"Time Taken\")\n",
    "plt.ylabel(\"Complexity\")"
   ]
  },
  {
   "cell_type": "code",
   "execution_count": null,
   "id": "bb839b23",
   "metadata": {},
   "outputs": [],
   "source": []
  }
 ],
 "metadata": {
  "kernelspec": {
   "display_name": "Python 3 (ipykernel)",
   "language": "python",
   "name": "python3"
  },
  "language_info": {
   "codemirror_mode": {
    "name": "ipython",
    "version": 3
   },
   "file_extension": ".py",
   "mimetype": "text/x-python",
   "name": "python",
   "nbconvert_exporter": "python",
   "pygments_lexer": "ipython3",
   "version": "3.8.3"
  }
 },
 "nbformat": 4,
 "nbformat_minor": 5
}
