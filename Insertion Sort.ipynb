{
 "cells": [
  {
   "cell_type": "code",
   "execution_count": 26,
   "id": "1bd1a7c5-2432-4b12-a243-29a9c8577d00",
   "metadata": {},
   "outputs": [
    {
     "name": "stdout",
     "output_type": "stream",
     "text": [
      "[0.2, 1, 1, 2, 2, 4, 6, 7, 12, 34, 200, 88585]\n"
     ]
    }
   ],
   "source": [
    "# Insertion sort algorithm (ascending order)\n",
    "A = [6, 4, 7, 2, 200, 1, 88585, 0.2, 12, 1, 34, 2]\n",
    "for j in range(1, len(A)):\n",
    "    key = A[j]\n",
    "    i = j - 1\n",
    "    while j > 0 and A[j] < A[i]: # flip < for desending order\n",
    "        A[j] = A[i]\n",
    "        A[i] = key\n",
    "        j = j - 1\n",
    "        i = i - 1\n",
    "print(A)"
   ]
  },
  {
   "cell_type": "code",
   "execution_count": 37,
   "id": "f9f34819-a8ca-47b7-8178-bd521d025305",
   "metadata": {},
   "outputs": [
    {
     "name": "stdout",
     "output_type": "stream",
     "text": [
      "0 11 5\n"
     ]
    }
   ],
   "source": [
    "# Merge sort algorithm (ascending order)\n",
    "import math\n",
    "\n",
    "A2 = [6, 4, 7, 2, 200, 1, 88585, 0.2, 12, 1, 34, 2]\n",
    "p, q = 0, len(A2)-1\n",
    "r = math.floor(q/2)\n",
    "\n",
    "\n",
    "print (p,q,r)"
   ]
  },
  {
   "cell_type": "code",
   "execution_count": null,
   "id": "04909318-f856-4378-b5a0-67374ec57212",
   "metadata": {},
   "outputs": [],
   "source": []
  }
 ],
 "metadata": {
  "kernelspec": {
   "display_name": "Python 3 (ipykernel)",
   "language": "python",
   "name": "python3"
  },
  "language_info": {
   "codemirror_mode": {
    "name": "ipython",
    "version": 3
   },
   "file_extension": ".py",
   "mimetype": "text/x-python",
   "name": "python",
   "nbconvert_exporter": "python",
   "pygments_lexer": "ipython3",
   "version": "3.8.3"
  }
 },
 "nbformat": 4,
 "nbformat_minor": 5
}
