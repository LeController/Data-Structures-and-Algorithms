{
 "cells": [
  {
   "cell_type": "code",
   "execution_count": 68,
   "id": "6fbe0c9d",
   "metadata": {},
   "outputs": [
    {
     "name": "stdout",
     "output_type": "stream",
     "text": [
      "['[']\n",
      "['[', '{']\n",
      "['[', '{', '(']\n",
      "['[', '{', '(', '{']\n",
      "['[', '{', '(', '{', '{']\n",
      "['[', '{', '(', '{', '{', '[']\n",
      "['[', '{', '(', '{', '{', '[', '{']\n",
      "['[', '{', '(', '{', '{', '[', '{', '(']\n",
      "not ok\n",
      "NOT OK\n"
     ]
    }
   ],
   "source": [
    "opening = '[{({{[{(' \n",
    "closing = '}]}})}]'\n",
    "\n",
    "stack = []\n",
    "for p in opening:\n",
    "    stack.append(p)\n",
    "    print(stack)\n",
    "    \n",
    "for p in closing:\n",
    "    if p == ')':\n",
    "        if stack.pop() == '(':\n",
    "            print(stack)\n",
    "        else: \n",
    "            print('not ok')\n",
    "            break\n",
    "    elif p == ']':\n",
    "        if stack.pop() == '[':\n",
    "            print(stack)\n",
    "        else: \n",
    "            print('not ok')\n",
    "            break\n",
    "    elif p == '}':\n",
    "        if stack.pop() == '{':\n",
    "            print(stack)\n",
    "        else: \n",
    "            print('not ok')\n",
    "            break\n",
    "\n",
    "if stack == []:\n",
    "    print('OK')\n",
    "else:\n",
    "    print('NOT OK')"
   ]
  },
  {
   "cell_type": "code",
   "execution_count": null,
   "id": "e5219fa4",
   "metadata": {},
   "outputs": [],
   "source": []
  }
 ],
 "metadata": {},
 "nbformat": 4,
 "nbformat_minor": 5
}
