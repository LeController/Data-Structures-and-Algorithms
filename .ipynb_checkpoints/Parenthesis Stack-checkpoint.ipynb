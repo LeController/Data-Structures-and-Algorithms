{
 "cells": [
  {
   "cell_type": "code",
   "execution_count": 87,
   "id": "87ed3cdc",
   "metadata": {},
   "outputs": [],
   "source": [
    "def stack_empty(S):\n",
    "    top = len(S)-1\n",
    "    if top == 0:\n",
    "        return True\n",
    "    else:\n",
    "        return False\n",
    "\n",
    "def push(S,x):\n",
    "    top = len(S)-1\n",
    "    top = top + 1\n",
    "    S[top] = x\n",
    "\n",
    "def pop(S):\n",
    "    top = len(S)-1\n",
    "    if stack_empty(S):\n",
    "        raise ValueError('underflow')\n",
    "    else:\n",
    "        top = top - 1\n",
    "        return S[top + 1]"
   ]
  },
  {
   "cell_type": "code",
   "execution_count": 71,
   "id": "2f94007b",
   "metadata": {},
   "outputs": [
    {
     "name": "stdout",
     "output_type": "stream",
     "text": [
      "['[']\n",
      "['[', '{']\n",
      "['[', '{', '(']\n",
      "['[', '{', '(', '{']\n",
      "['[', '{', '(', '{', '{']\n",
      "['[', '{', '(', '{', '{', '[']\n",
      "['[', '{', '(', '{', '{', '[', '{']\n",
      "['[', '{', '(', '{', '{', '[']\n",
      "['[', '{', '(', '{', '{']\n",
      "['[', '{', '(', '{']\n",
      "['[', '{', '(']\n",
      "['[', '{']\n",
      "['[']\n",
      "[]\n",
      "OK\n"
     ]
    }
   ],
   "source": [
    "# with STACKS\n",
    "opening = '[{({{[{' \n",
    "closing = '}]}})}]'\n",
    "\n",
    "stack = []\n",
    "for p in opening:\n",
    "    stack.append(p)\n",
    "    print(stack)\n",
    "    \n",
    "for p in closing:\n",
    "    if p == ')':\n",
    "        if stack.pop() == '(':\n",
    "            print(stack)\n",
    "        else: \n",
    "            print('not ok')\n",
    "            break\n",
    "    elif p == ']':\n",
    "        if stack.pop() == '[':\n",
    "            print(stack)\n",
    "        else: \n",
    "            print('not ok')\n",
    "            break\n",
    "    elif p == '}':\n",
    "        if stack.pop() == '{':\n",
    "            print(stack)\n",
    "        else: \n",
    "            print('not ok')\n",
    "            break\n",
    "\n",
    "if stack == []:\n",
    "    print('OK')\n",
    "else:\n",
    "    print('NOT OK')"
   ]
  },
  {
   "cell_type": "code",
   "execution_count": 78,
   "id": "c3af5f24",
   "metadata": {},
   "outputs": [
    {
     "name": "stdout",
     "output_type": "stream",
     "text": [
      "['(']\n",
      "['(', '{']\n",
      "['(', '{', '[']\n"
     ]
    }
   ],
   "source": [
    "# with QUEUES\n",
    "opening = '[{(' \n",
    "closing = ')}]'\n",
    "\n",
    "queue = []\n",
    "for p in opening[::-1]:\n",
    "    queue.append(p)\n",
    "    print(queue)\n",
    "    \n",
    "for p in closing:\n",
    "    if p == ')':\n",
    "        if stack.pop() == '(':\n",
    "            print(stack)\n",
    "        else: \n",
    "            print('not ok')\n",
    "            break\n",
    "    elif p == ']':\n",
    "        if stack.pop() == '[':\n",
    "            print(stack)\n",
    "        else: \n",
    "            print('not ok')\n",
    "            break\n",
    "    elif p == '}':\n",
    "        if stack.pop() == '{':\n",
    "            print(stack)\n",
    "        else: \n",
    "            print('not ok')\n",
    "            break"
   ]
  },
  {
   "cell_type": "code",
   "execution_count": 76,
   "id": "cecc7173",
   "metadata": {},
   "outputs": [
    {
     "data": {
      "text/plain": [
       "'({['"
      ]
     },
     "execution_count": 76,
     "metadata": {},
     "output_type": "execute_result"
    }
   ],
   "source": [
    "opening[::-1]"
   ]
  }
 ],
 "metadata": {},
 "nbformat": 4,
 "nbformat_minor": 5
}
