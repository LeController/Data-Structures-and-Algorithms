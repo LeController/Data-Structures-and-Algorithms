{
 "cells": [
  {
   "cell_type": "code",
   "execution_count": 7,
   "id": "f158d66d",
   "metadata": {},
   "outputs": [],
   "source": [
    "import math\n",
    "import random\n",
    "import time \n",
    "import numpy as np\n",
    "import matplotlib as mpl\n",
    "import matplotlib.pyplot as plt\n",
    "\n",
    "def BucketSort(A):\n",
    "    B = []\n",
    "    n = len(A)\n",
    "    for i in range(0, n):\n",
    "        B.append([])\n",
    "    for i in range(0, n):\n",
    "        B[math.floor(n*A[i])].append(A[i])\n",
    "        \n",
    "    for i in range(0, n-1):\n",
    "        B[i] = InsertionSort(B[i])\n",
    "        \n",
    "    k=0\n",
    "    for i in range(0, n):\n",
    "        for j in range(len(B[i])):\n",
    "            A[k] = B[i][j]\n",
    "            k += 1\n",
    "    return A\n",
    "        "
   ]
  },
  {
   "cell_type": "code",
   "execution_count": 2,
   "id": "0f19fce2",
   "metadata": {},
   "outputs": [],
   "source": [
    "# Insertion sort algorithm (ascending order)\n",
    "def InsertionSort(A):\n",
    "    for j in range(1, len(A)):\n",
    "        key = A[j]\n",
    "        i = j - 1\n",
    "        while j > 0 and A[j] < A[i]: # flip < for desending order\n",
    "            A[j] = A[i]\n",
    "            A[i] = key\n",
    "            j = j - 1\n",
    "            i = i - 1\n",
    "    return A"
   ]
  },
  {
   "cell_type": "code",
   "execution_count": 115,
   "id": "16ec2831",
   "metadata": {},
   "outputs": [
    {
     "name": "stdout",
     "output_type": "stream",
     "text": [
      "[0.11, 0.12, 0.17, 0.23, 0.26, 0.39, 0.68, 0.72, 0.78, 0.94]\n"
     ]
    }
   ],
   "source": [
    "A = [0.78, 0.17, 0.39, 0.26, 0.72, 0.94, 0.11, 0.12, 0.23, 0.68]\n",
    "A2 = BucketSort(A)\n"
   ]
  },
  {
   "cell_type": "code",
   "execution_count": 118,
   "id": "4f7a8896",
   "metadata": {},
   "outputs": [
    {
     "name": "stdout",
     "output_type": "stream",
     "text": [
      "[0.11, 0.12, 0.17, 0.23, 0.26, 0.39, 0.68, 0.72, 0.78, 0.94]\n",
      "BUCKET SORTED\n",
      "\n",
      "Time taken: 0.003002643585205078\n",
      "BUCKET SORTED\n",
      "\n",
      "Time taken: 0.002003908157348633\n",
      "BUCKET SORTED\n",
      "\n",
      "Time taken: 0.01701521873474121\n",
      "BUCKET SORTED\n",
      "\n",
      "Time taken: 0.18115687370300293\n",
      "BUCKET SORTED\n",
      "\n",
      "Time taken: 2.0018203258514404\n",
      "BUCKET SORTED\n",
      "\n",
      "Time taken: 21.28536605834961\n",
      "BUCKET SORTED\n",
      "\n",
      "Time taken: 263.8511838912964\n"
     ]
    }
   ],
   "source": [
    "A = [0.78, 0.17, 0.39, 0.26, 0.72, 0.94, 0.11, 0.12, 0.23, 0.68]\n",
    "print(BucketSort(A))\n",
    "\n",
    "B = np.random.uniform(0, 1, 100)\n",
    "start_time = time.time()\n",
    "print('BUCKET SORTED')\n",
    "B2 = BucketSort(B)\n",
    "end_time1 = time.time() - start_time\n",
    "print('\\nTime taken:',end_time1)\n",
    "\n",
    "B = np.random.uniform(0, 1, 1000)\n",
    "start_time = time.time()\n",
    "print('BUCKET SORTED')\n",
    "B2 = BucketSort(B)\n",
    "end_time2 = time.time() - start_time\n",
    "print('\\nTime taken:',end_time2)\n",
    "\n",
    "B = np.random.uniform(0, 1, 10000)\n",
    "start_time = time.time()\n",
    "print('BUCKET SORTED')\n",
    "B2 = BucketSort(B)\n",
    "end_time3 = time.time() - start_time\n",
    "print('\\nTime taken:',end_time3)\n",
    "\n",
    "B = np.random.uniform(0, 1, 100000)\n",
    "start_time = time.time()\n",
    "print('BUCKET SORTED')\n",
    "B2 = BucketSort(B)\n",
    "end_time4 = time.time() - start_time\n",
    "print('\\nTime taken:',end_time4)\n",
    "\n",
    "B = np.random.uniform(0, 1, 1000000)\n",
    "start_time = time.time()\n",
    "print('BUCKET SORTED')\n",
    "B2 = BucketSort(B)\n",
    "end_time5 = time.time() - start_time\n",
    "print('\\nTime taken:',end_time5)\n",
    "\n",
    "B = np.random.uniform(0, 1, 10000000)\n",
    "start_time = time.time()\n",
    "print('BUCKET SORTED')\n",
    "B2 = BucketSort(B)\n",
    "end_time6 = time.time() - start_time\n",
    "print('\\nTime taken:',end_time6)\n",
    "\n",
    "B = np.random.uniform(0, 1, 100000000)\n",
    "start_time = time.time()\n",
    "print('BUCKET SORTED')\n",
    "B2 = BucketSort(B)\n",
    "end_time7 = time.time() - start_time\n",
    "print('\\nTime taken:',end_time7)\n",
    "\n",
    "# B = np.random.uniform(0, 1, 1000000000)\n",
    "# start_time = time.time()\n",
    "# print('BUCKET SORTED')\n",
    "# B2 = BucketSort(B)\n",
    "# end_time8 = time.time() - start_time\n",
    "# print('\\nTime taken:',end_time8)\n"
   ]
  },
  {
   "cell_type": "code",
   "execution_count": 120,
   "id": "02c1f672",
   "metadata": {},
   "outputs": [
    {
     "data": {
      "image/png": "[encoded data removed]",
      "text/plain": [
       "<Figure size 432x288 with 1 Axes>"
      ]
     },
     "metadata": {
      "needs_background": "light"
     },
     "output_type": "display_data"
    }
   ],
   "source": [
    "n_list = [100,1000,10000,100000,1000000,10000000,100000000]\n",
    "times = [end_time1,end_time2,end_time3,end_time4,end_time5,end_time6,end_time7]\n",
    "plt.plot(n_list, times)\n",
    "plt.ylabel('time taken (s)')\n",
    "plt.xlabel('n')\n",
    "plt.title('Bucket Sort')\n",
    "plt.grid()"
   ]
  },
  {
   "cell_type": "code",
   "execution_count": 17,
   "id": "f6faca78",
   "metadata": {},
   "outputs": [],
   "source": [
    "# k is the biggest number in A\n",
    "# B is a new list with range(len(A))\n",
    "\n",
    "def CountingSort(A, B, k):\n",
    "    C = [0 for i in range(k+1)]\n",
    "#     for i in range(0, k):\n",
    "#         C[i] = 0\n",
    "    for j in range(0, len(A)+1):\n",
    "#         print(j)\n",
    "#         print('C:',C)\n",
    "        if j < len(A):\n",
    "            C[A[j]] = C[A[j]] + 1\n",
    "    for i in range(1, k+1):\n",
    "        C[i] = C[i] + C[i-1]\n",
    "#         print(\"Cumulative:\",C)\n",
    "    for j in range(len(A)-1, -1, -1):\n",
    "#         print(j)\n",
    "#         print('C:',C)\n",
    "#         print('B:',B)\n",
    "        B[C[A[j]]-1] = A[j]\n",
    "        C[A[j]] = C[A[j]] - 1\n",
    "    return(B)\n",
    "        "
   ]
  },
  {
   "cell_type": "code",
   "execution_count": 18,
   "id": "999187ae",
   "metadata": {},
   "outputs": [
    {
     "name": "stdout",
     "output_type": "stream",
     "text": [
      "COUNTING SORTED\n",
      "[0, 0, 1, 1, 2, 2, 3, 3, 4, 6]\n"
     ]
    }
   ],
   "source": [
    "A = [0,2,0,1,3,4,6,1,3,2]\n",
    "B = [0 for i in range(len(A))]\n",
    "print('COUNTING SORTED')\n",
    "print(CountingSort(A, B, max(A)))\n"
   ]
  },
  {
   "cell_type": "code",
   "execution_count": 24,
   "id": "bf3a334c",
   "metadata": {},
   "outputs": [
    {
     "name": "stdout",
     "output_type": "stream",
     "text": [
      "COUNTING SORTED\n",
      "\n",
      "Time taken: 0.037034034729003906\n",
      "COUNTING SORTED\n",
      "\n",
      "Time taken: 0.0020020008087158203\n",
      "COUNTING SORTED\n",
      "\n",
      "Time taken: 0.010962486267089844\n",
      "COUNTING SORTED\n",
      "\n",
      "Time taken: 0.09607863426208496\n",
      "COUNTING SORTED\n",
      "\n",
      "Time taken: 0.9451866149902344\n",
      "COUNTING SORTED\n",
      "\n",
      "Time taken: 9.555648565292358\n",
      "COUNTING SORTED\n",
      "\n",
      "Time taken: 100.98156261444092\n"
     ]
    }
   ],
   "source": [
    "# with max number being 10,000 (k)\n",
    "\n",
    "A = np.random.randint(0, 10000, 100)\n",
    "B = [0 for i in range(len(A))]\n",
    "start_time = time.time()\n",
    "print('COUNTING SORTED')\n",
    "A2 = CountingSort(A, B, max(A))\n",
    "end_time1 = time.time() - start_time\n",
    "print('\\nTime taken:',end_time1)\n",
    "\n",
    "A = np.random.randint(0, 10000, 1000)\n",
    "B = [0 for i in range(len(A))]\n",
    "start_time = time.time()\n",
    "print('COUNTING SORTED')\n",
    "A2 = CountingSort(A, B, max(A))\n",
    "end_time2 = time.time() - start_time\n",
    "print('\\nTime taken:',end_time2)\n",
    "\n",
    "A = np.random.randint(0, 10000, 10000)\n",
    "B = [0 for i in range(len(A))]\n",
    "start_time = time.time()\n",
    "print('COUNTING SORTED')\n",
    "A2 = CountingSort(A, B, max(A))\n",
    "end_time3 = time.time() - start_time\n",
    "print('\\nTime taken:',end_time3)\n",
    "\n",
    "A = np.random.randint(0, 10000, 100000)\n",
    "B = [0 for i in range(len(A))]\n",
    "start_time = time.time()\n",
    "print('COUNTING SORTED')\n",
    "A2 = CountingSort(A, B, max(A))\n",
    "end_time4 = time.time() - start_time\n",
    "print('\\nTime taken:',end_time4)\n",
    "\n",
    "A = np.random.randint(0, 10000, 1000000)\n",
    "B = [0 for i in range(len(A))]\n",
    "start_time = time.time()\n",
    "print('COUNTING SORTED')\n",
    "A2 = CountingSort(A, B, max(A))\n",
    "end_time5 = time.time() - start_time\n",
    "print('\\nTime taken:',end_time5)\n",
    "\n",
    "A = np.random.randint(0, 10000, 10000000)\n",
    "B = [0 for i in range(len(A))]\n",
    "start_time = time.time()\n",
    "print('COUNTING SORTED')\n",
    "A2 = CountingSort(A, B, max(A))\n",
    "end_time6 = time.time() - start_time\n",
    "print('\\nTime taken:',end_time6)\n",
    "\n",
    "A = np.random.randint(0, 10000, 100000000)\n",
    "B = [0 for i in range(len(A))]\n",
    "start_time = time.time()\n",
    "print('COUNTING SORTED')\n",
    "A2 = CountingSort(A, B, max(A))\n",
    "end_time7 = time.time() - start_time\n",
    "print('\\nTime taken:',end_time7)"
   ]
  },
  {
   "cell_type": "code",
   "execution_count": 25,
   "id": "382d1db6",
   "metadata": {},
   "outputs": [
    {
     "data": {
      "image/png": "[encoded data removed]",
      "text/plain": [
       "<Figure size 432x288 with 1 Axes>"
      ]
     },
     "metadata": {
      "needs_background": "light"
     },
     "output_type": "display_data"
    }
   ],
   "source": [
    "n_list = [100,1000,10000,100000,1000000,10000000]\n",
    "times = [end_time1,end_time2,end_time3,end_time4,end_time5,end_time6]\n",
    "plt.plot(n_list, times)\n",
    "plt.ylabel('time taken (s)')\n",
    "plt.xlabel('n')\n",
    "plt.title('Counting Sort')\n",
    "plt.grid()"
   ]
  },
  {
   "cell_type": "code",
   "execution_count": 27,
   "id": "a7b1167b",
   "metadata": {},
   "outputs": [],
   "source": [
    "# d is number of DIGITS\n",
    "def RadixSort(A, d):\n",
    "    B = [0 for i in range(len(A))]\n",
    "    for i in range(1, d+1):\n",
    "        CountingSort(A, B, max(A))\n",
    "        d += 1\n",
    "    return B"
   ]
  },
  {
   "cell_type": "code",
   "execution_count": 28,
   "id": "731e4e5f",
   "metadata": {},
   "outputs": [
    {
     "name": "stdout",
     "output_type": "stream",
     "text": [
      "[0, 2, 75, 170, 254, 345, 656, 9440, 66002, 84402]\n"
     ]
    }
   ],
   "source": [
    "A = [0, 170, 345, 75, 9440, 84402, 254, 66002, 656, 2]\n",
    "A2 = RadixSort(A, 3)\n",
    "print(A2)"
   ]
  },
  {
   "cell_type": "code",
   "execution_count": 29,
   "id": "4f0c153f",
   "metadata": {},
   "outputs": [
    {
     "name": "stdout",
     "output_type": "stream",
     "text": [
      "RADIX SORTED\n",
      "\n",
      "Time taken: 0.006005525588989258\n",
      "RADIX SORTED\n",
      "\n",
      "Time taken: 0.010009288787841797\n",
      "RADIX SORTED\n",
      "\n",
      "Time taken: 0.04505205154418945\n",
      "RADIX SORTED\n",
      "\n",
      "Time taken: 0.402752161026001\n",
      "RADIX SORTED\n",
      "\n",
      "Time taken: 3.980764627456665\n",
      "RADIX SORTED\n",
      "\n",
      "Time taken: 39.861854553222656\n"
     ]
    }
   ],
   "source": [
    "start_time = time.time()\n",
    "A = np.random.randint(0, 10000, 100)\n",
    "print('RADIX SORTED')\n",
    "A2 = RadixSort(A, 4)\n",
    "end_time1 = time.time() - start_time\n",
    "print('\\nTime taken:',end_time1)\n",
    "\n",
    "start_time = time.time()\n",
    "A = np.random.randint(0, 10000, 1000)\n",
    "print('RADIX SORTED')\n",
    "A2 = RadixSort(A, 4)\n",
    "end_time2 = time.time() - start_time\n",
    "print('\\nTime taken:',end_time2)\n",
    "\n",
    "start_time = time.time()\n",
    "A = np.random.randint(0, 10000, 10000)\n",
    "print('RADIX SORTED')\n",
    "A2 = RadixSort(A, 4)\n",
    "end_time3 = time.time() - start_time\n",
    "print('\\nTime taken:',end_time3)\n",
    "\n",
    "start_time = time.time()\n",
    "A = np.random.randint(0, 10000, 100000)\n",
    "print('RADIX SORTED')\n",
    "A2 = RadixSort(A, 4)\n",
    "end_time4 = time.time() - start_time\n",
    "print('\\nTime taken:',end_time4)\n",
    "\n",
    "start_time = time.time()\n",
    "A = np.random.randint(0, 10000, 1000000)\n",
    "print('RADIX SORTED')\n",
    "A2 = RadixSort(A, 4)\n",
    "end_time5 = time.time() - start_time\n",
    "print('\\nTime taken:',end_time5)\n",
    "\n",
    "start_time = time.time()\n",
    "A = np.random.randint(0, 10000, 10000000)\n",
    "print('RADIX SORTED')\n",
    "A2 = RadixSort(A, 4)\n",
    "end_time6 = time.time() - start_time\n",
    "print('\\nTime taken:',end_time6)\n",
    "\n",
    "# start_time = time.time()\n",
    "# A = np.random.randint(0, 10000, 100000000)\n",
    "# print('RADIX SORTED')\n",
    "# A2 = RadixSort(A, 5)\n",
    "# end_time7 = time.time() - start_time\n",
    "# print('\\nTime taken:',end_time7)"
   ]
  },
  {
   "cell_type": "code",
   "execution_count": 30,
   "id": "0e83c6da",
   "metadata": {},
   "outputs": [
    {
     "data": {
      "image/png": "[encoded data removed]",
      "text/plain": [
       "<Figure size 432x288 with 1 Axes>"
      ]
     },
     "metadata": {
      "needs_background": "light"
     },
     "output_type": "display_data"
    }
   ],
   "source": [
    "n_list = [100,1000,10000,100000,1000000,10000000]\n",
    "times = [end_time1,end_time2,end_time3,end_time4,end_time5,end_time6]\n",
    "plt.plot(n_list, times)\n",
    "plt.ylabel('time taken (s)')\n",
    "plt.xlabel('n')\n",
    "plt.title('Radix Sort')\n",
    "plt.grid()"
   ]
  }
 ],
 "metadata": {
  "kernelspec": {
   "display_name": "Python 3 (ipykernel)",
   "language": "python",
   "name": "python3"
  },
  "language_info": {
   "codemirror_mode": {
    "name": "ipython",
    "version": 3
   },
   "file_extension": ".py",
   "mimetype": "text/x-python",
   "name": "python",
   "nbconvert_exporter": "python",
   "pygments_lexer": "ipython3",
   "version": "3.8.3"
  }
 },
 "nbformat": 4,
 "nbformat_minor": 5
}
