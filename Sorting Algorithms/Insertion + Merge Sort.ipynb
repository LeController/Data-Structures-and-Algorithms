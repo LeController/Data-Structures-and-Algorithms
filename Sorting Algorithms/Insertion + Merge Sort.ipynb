{
 "cells": [
  {
   "cell_type": "code",
   "execution_count": 78,
   "id": "1bd1a7c5-2432-4b12-a243-29a9c8577d00",
   "metadata": {},
   "outputs": [
    {
     "name": "stdout",
     "output_type": "stream",
     "text": [
      "[0.2, 1, 1, 2, 2, 4, 6, 7, 12, 34, 200, 88585]\n"
     ]
    }
   ],
   "source": [
    "# Insertion sort algorithm (ascending order)\n",
    "A2 = [6, 4, 7, 2, 200, 1, 88585, 0.2, 12, 1, 34, 2]\n",
    "for j in range(1, len(A2)):\n",
    "    key = A2[j]\n",
    "    i = j - 1\n",
    "    while j > 0 and A2[j] < A2[i]: # flip < for desending order\n",
    "        A2[j] = A2[i]\n",
    "        A2[i] = key\n",
    "        j = j - 1\n",
    "        i = i - 1\n",
    "print(A2)"
   ]
  },
  {
   "cell_type": "code",
   "execution_count": 79,
   "id": "d3064df3-682a-46c0-92e6-460f14534c58",
   "metadata": {},
   "outputs": [
    {
     "data": {
      "text/plain": [
       "[0.3, 1, 3, 5, 7, 277]"
      ]
     },
     "execution_count": 79,
     "metadata": {},
     "output_type": "execute_result"
    }
   ],
   "source": [
    "# Merge sort algorithm (ascending order) # seems to work\n",
    "import math\n",
    "\n",
    "def merge(A, start, mid, end):\n",
    "    n1 = mid-start+1\n",
    "    n2 = end-mid\n",
    "    L = list(range(n1))\n",
    "    R = list(range(n2))\n",
    "    \n",
    "    for i in range(n1):\n",
    "        L[i] = A[start+i]\n",
    "    for j in range(n2):\n",
    "        R[j] = A[mid+j+1] \n",
    "    L.append(math.inf) \n",
    "    R.append(math.inf)     \n",
    "    i, j = 0, 0\n",
    "\n",
    "    for k in range(start, end+1):\n",
    "        if L[i] <= R[j]:\n",
    "            A[k] = L[i]\n",
    "            i += 1\n",
    "        else: \n",
    "            A[k] = R[j]\n",
    "            j += 1\n",
    "\n",
    "def merge_sort(A, start, end):\n",
    "    if start < end:\n",
    "        mid = math.floor((start+end)/2)\n",
    "        merge_sort(A,start,mid)\n",
    "        merge_sort(A,(mid+1),end)\n",
    "        merge(A, start, mid, end)\n",
    "    return(A)\n",
    "        \n",
    "merge_sort([277,7,3,5,0.3,1], 0, 5) # last argument is simply len(A)-1"
   ]
  },
  {
   "cell_type": "code",
   "execution_count": null,
   "id": "70ce3f8e-970b-4ca2-bace-cc2b45c5c04c",
   "metadata": {},
   "outputs": [],
   "source": []
  }
 ],
 "metadata": {
  "kernelspec": {
   "display_name": "Python 3 (ipykernel)",
   "language": "python",
   "name": "python3"
  },
  "language_info": {
   "codemirror_mode": {
    "name": "ipython",
    "version": 3
   },
   "file_extension": ".py",
   "mimetype": "text/x-python",
   "name": "python",
   "nbconvert_exporter": "python",
   "pygments_lexer": "ipython3",
   "version": "3.8.3"
  }
 },
 "nbformat": 4,
 "nbformat_minor": 5
}
