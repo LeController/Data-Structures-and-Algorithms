{
 "cells": [
  {
   "cell_type": "code",
   "execution_count": 10,
   "id": "c5466b01",
   "metadata": {},
   "outputs": [],
   "source": [
    "import math\n",
    "\n",
    "def parent(i):\n",
    "    return math.floor(i/2)\n",
    "\n",
    "def left(i):\n",
    "    return 2*i + 1\n",
    "\n",
    "def right(i):\n",
    "    return 2*i + 2\n",
    "\n",
    "def max_heapify(A, heapsize, i):\n",
    "    l = left(i)\n",
    "    r = right(i)\n",
    "    if l < heapsize and A[l] > A[i]:\n",
    "        largest = l\n",
    "    else:\n",
    "        largest = i\n",
    "    if r < heapsize and A[r] > A[largest]:\n",
    "        largest = r\n",
    "    if largest != i:\n",
    "        A[i], A[largest] = A[largest], A[i]\n",
    "        max_heapify(A, heapsize, largest)\n",
    "        \n",
    "# def build_max_heap(A):\n",
    "#     heapsize = len(A)\n",
    "#     print('heapsize', heapsize)\n",
    "#     for i in reversed(range(1, math.floor(heapsize/2))):\n",
    "#         max_heapify(A, i)\n",
    "        \n",
    "def heapsort(A):\n",
    "    # build max heap\n",
    "    heapsize = len(A)\n",
    "#     print('heapsize', heapsize)\n",
    "    for i in reversed(range(-1, math.floor(heapsize/2)-1)):\n",
    "        max_heapify(A, heapsize, i)\n",
    "    \n",
    "    for i in reversed(range(0, heapsize-1)):\n",
    "        A[0], A[i] = A[i], A[0]\n",
    "        heapsize = heapsize - 1\n",
    "        max_heapify(A, i, 0)\n",
    "        "
   ]
  },
  {
   "cell_type": "code",
   "execution_count": 11,
   "id": "44f1d967",
   "metadata": {},
   "outputs": [
    {
     "name": "stdout",
     "output_type": "stream",
     "text": [
      "HEAPSORTED\n",
      " [2, 4, 5, 7, 8, 13, 17, 20, 25]\n"
     ]
    }
   ],
   "source": [
    "array = [5,13,2,25,7,17,20,8,4]\n",
    "heapsort(array)\n",
    "print('HEAPSORTED\\n', array)"
   ]
  },
  {
   "cell_type": "code",
   "execution_count": 12,
   "id": "7e7f2b06",
   "metadata": {},
   "outputs": [],
   "source": [
    "def quicksort(A, p, r):\n",
    "    if p < r:\n",
    "        q = partition(A, p ,r)\n",
    "        quicksort(A, p, q-1)\n",
    "        quicksort(A, q+1, r)\n",
    "    print(A)\n",
    "        \n",
    "def partition(A, p, r):\n",
    "    print(A)\n",
    "    x = A[r]\n",
    "    i = p - 1\n",
    "    for j in range(p, r):\n",
    "        if A[j] <= x:\n",
    "            i = i + 1\n",
    "            A[i], A[j] = A[j], A[i]\n",
    "    A[i+1], A[r] = A[r], A[i+1]\n",
    "    return i+1"
   ]
  },
  {
   "cell_type": "code",
   "execution_count": 13,
   "id": "824d8da1",
   "metadata": {},
   "outputs": [
    {
     "name": "stdout",
     "output_type": "stream",
     "text": [
      "[5, 13, 2, 25, 7, 17, 20, 8, 4]\n",
      "[2, 4, 5, 25, 7, 17, 20, 8, 13]\n",
      "[2, 4, 5, 25, 7, 17, 20, 8, 13]\n",
      "[2, 4, 5, 7, 8, 13, 20, 25, 17]\n",
      "[2, 4, 5, 7, 8, 13, 20, 25, 17]\n",
      "[2, 4, 5, 7, 8, 13, 20, 25, 17]\n",
      "[2, 4, 5, 7, 8, 13, 20, 25, 17]\n",
      "[2, 4, 5, 7, 8, 13, 20, 25, 17]\n",
      "[2, 4, 5, 7, 8, 13, 20, 25, 17]\n",
      "[2, 4, 5, 7, 8, 13, 20, 25, 17]\n",
      "[2, 4, 5, 7, 8, 13, 20, 25, 17]\n",
      "[2, 4, 5, 7, 8, 13, 17, 25, 20]\n",
      "[2, 4, 5, 7, 8, 13, 17, 25, 20]\n",
      "[2, 4, 5, 7, 8, 13, 17, 20, 25]\n",
      "[2, 4, 5, 7, 8, 13, 17, 20, 25]\n",
      "[2, 4, 5, 7, 8, 13, 17, 20, 25]\n",
      "[2, 4, 5, 7, 8, 13, 17, 20, 25]\n",
      "[2, 4, 5, 7, 8, 13, 17, 20, 25]\n",
      "[2, 4, 5, 7, 8, 13, 17, 20, 25]\n",
      "\n",
      "QUICKSORTED\n",
      " [2, 4, 5, 7, 8, 13, 17, 20, 25]\n"
     ]
    }
   ],
   "source": [
    "array = [5,13,2,25,7,17,20,8,4]\n",
    "n = len(array)\n",
    "quicksort(array, 0, n-1)\n",
    "print('\\nQUICKSORTED\\n', array)"
   ]
  }
 ],
 "metadata": {
  "kernelspec": {
   "display_name": "Python 3 (ipykernel)",
   "language": "python",
   "name": "python3"
  },
  "language_info": {
   "codemirror_mode": {
    "name": "ipython",
    "version": 3
   },
   "file_extension": ".py",
   "mimetype": "text/x-python",
   "name": "python",
   "nbconvert_exporter": "python",
   "pygments_lexer": "ipython3",
   "version": "3.8.3"
  }
 },
 "nbformat": 4,
 "nbformat_minor": 5
}
